{
 "cells": [
  {
   "cell_type": "code",
   "execution_count": 1,
   "id": "fbfe5c29",
   "metadata": {
    "execution": {
     "iopub.execute_input": "2024-04-01T20:49:11.962111Z",
     "iopub.status.busy": "2024-04-01T20:49:11.961460Z",
     "iopub.status.idle": "2024-04-01T20:49:19.989876Z",
     "shell.execute_reply": "2024-04-01T20:49:19.990722Z",
     "shell.execute_reply.started": "2024-04-01T09:25:25.621692Z"
    },
    "papermill": {
     "duration": 8.059307,
     "end_time": "2024-04-01T20:49:19.991123",
     "exception": false,
     "start_time": "2024-04-01T20:49:11.931816",
     "status": "completed"
    },
    "tags": []
   },
   "outputs": [],
   "source": [
    "# Importing Library \n",
    "\n",
    "import pandas as pd\n",
    "import numpy as np\n",
    "import matplotlib.pyplot as plt\n",
    "import seaborn as sns\n",
    "import plotly.express as px\n",
    "\n",
    "\n",
    "import tensorflow as tf\n",
    "from tensorflow.keras.preprocessing.image import ImageDataGenerator\n",
    "from tensorflow.keras.utils import to_categorical\n",
    "\n",
    "from sklearn.metrics import confusion_matrix , classification_report \n",
    "from sklearn.preprocessing import LabelBinarizer\n",
    "from sklearn.metrics import roc_curve, auc, roc_auc_score\n",
    "\n",
    "from IPython.display import clear_output\n",
    "import warnings\n",
    "warnings.filterwarnings('ignore')"
   ]
  },
  {
   "cell_type": "code",
   "execution_count": 2,
   "id": "239a9d00",
   "metadata": {
    "execution": {
     "iopub.execute_input": "2024-04-01T20:49:20.031027Z",
     "iopub.status.busy": "2024-04-01T20:49:20.030402Z",
     "iopub.status.idle": "2024-04-01T20:49:20.033140Z",
     "shell.execute_reply": "2024-04-01T20:49:20.032637Z",
     "shell.execute_reply.started": "2024-04-01T09:25:33.473559Z"
    },
    "papermill": {
     "duration": 0.024875,
     "end_time": "2024-04-01T20:49:20.033264",
     "exception": false,
     "start_time": "2024-04-01T20:49:20.008389",
     "status": "completed"
    },
    "tags": []
   },
   "outputs": [],
   "source": [
    "# Setting Directory\n",
    "train_dir = \"/kaggle/input/immmaaa/images/images/train\"\n",
    "val_dir = \"/kaggle/input/immmaaa/images/images/validation\"\n",
    "test_dir = \"/kaggle/input/immmaaa/images/images/final test\"\n",
    "\n",
    "# Setting up Hyperparameter\n",
    "IMG_HEIGHT = 48\n",
    "IMG_WIDTH = 48\n",
    "BATCH_SIZE = 64\n",
    "EPOCHS = 100\n",
    "LR = 0.01\n",
    "NUM_CLASSES = 7\n",
    "EARLY_STOPPING_CRITERIA=3\n",
    "\n",
    "#Encoding Labels\n",
    "CLASS_LABELS  = ['Anger', 'Disgust', 'Fear', 'Happy', 'Neutral', 'Sadness', \"Surprise\"]\n",
    "CLASS_LABELS_EMOJIS = [\"👿\", \"🤢\" , \"😱\" , \"😊\" , \"😐 \", \"😔\" , \"😲\" ]"
   ]
  },
  {
   "cell_type": "code",
   "execution_count": 3,
   "id": "62e62b12",
   "metadata": {
    "_kg_hide-input": true,
    "execution": {
     "iopub.execute_input": "2024-04-01T20:49:20.075879Z",
     "iopub.status.busy": "2024-04-01T20:49:20.075147Z",
     "iopub.status.idle": "2024-04-01T20:49:59.752717Z",
     "shell.execute_reply": "2024-04-01T20:49:59.753233Z",
     "shell.execute_reply.started": "2024-04-01T09:25:33.480857Z"
    },
    "papermill": {
     "duration": 39.703774,
     "end_time": "2024-04-01T20:49:59.753410",
     "exception": false,
     "start_time": "2024-04-01T20:49:20.049636",
     "status": "completed"
    },
    "tags": []
   },
   "outputs": [
    {
     "name": "stdout",
     "output_type": "stream",
     "text": [
      "Found 26921 images belonging to 7 classes.\n",
      "Found 0 images belonging to 7 classes.\n",
      "Found 1900 images belonging to 7 classes.\n"
     ]
    }
   ],
   "source": [
    "#Pre-processing\n",
    "preprocess_fun = tf.keras.applications.densenet.preprocess_input\n",
    "\n",
    "train_datagen = ImageDataGenerator(horizontal_flip=True,\n",
    "                                   width_shift_range=0.1,\n",
    "                                   height_shift_range=0.05,\n",
    "                                   rescale = 1./255,\n",
    "                                   preprocessing_function=preprocess_fun\n",
    "                                  )\n",
    "val_datagen = ImageDataGenerator(rescale = 1./255,\n",
    "                                  preprocessing_function=preprocess_fun)\n",
    "test_datagen = ImageDataGenerator(rescale = 1./255,\n",
    "                                  preprocessing_function=preprocess_fun)\n",
    "\n",
    "\n",
    "#Data Generator \n",
    "train_generator = train_datagen.flow_from_directory(directory = train_dir,\n",
    "                                                    target_size = (IMG_HEIGHT ,IMG_WIDTH),\n",
    "                                                    batch_size = BATCH_SIZE,\n",
    "                                                    shuffle  = True , \n",
    "                                                    color_mode = \"rgb\",\n",
    "                                                    class_mode = \"categorical\",\n",
    "                                                    subset = \"training\",\n",
    "                                                    seed = 12)\n",
    "                                                   \n",
    "validation_generator = val_datagen.flow_from_directory(directory = val_dir,\n",
    "                                                         target_size = (IMG_HEIGHT ,IMG_WIDTH),\n",
    "                                                         batch_size = BATCH_SIZE,\n",
    "                                                         shuffle  = True , \n",
    "                                                         color_mode = \"rgb\",\n",
    "                                                         class_mode = \"categorical\",\n",
    "                                                         subset = \"validation\",\n",
    "                                                         seed = 12\n",
    "                                                        )\n",
    "\n",
    "test_generator = test_datagen.flow_from_directory(directory = test_dir,\n",
    "                                                   target_size = (IMG_HEIGHT ,IMG_WIDTH),\n",
    "                                                    batch_size = BATCH_SIZE,\n",
    "                                                    shuffle  = False , \n",
    "                                                    color_mode = \"rgb\",\n",
    "                                                    class_mode = \"categorical\",\n",
    "                                                    seed = 12\n",
    "                                                  )"
   ]
  },
  {
   "cell_type": "code",
   "execution_count": 4,
   "id": "1f3c8512",
   "metadata": {
    "_kg_hide-input": true,
    "execution": {
     "iopub.execute_input": "2024-04-01T20:49:59.803314Z",
     "iopub.status.busy": "2024-04-01T20:49:59.797177Z",
     "iopub.status.idle": "2024-04-01T20:50:01.677997Z",
     "shell.execute_reply": "2024-04-01T20:50:01.678500Z",
     "shell.execute_reply.started": "2024-04-01T09:25:48.283717Z"
    },
    "papermill": {
     "duration": 1.907272,
     "end_time": "2024-04-01T20:50:01.678672",
     "exception": false,
     "start_time": "2024-04-01T20:49:59.771400",
     "status": "completed"
    },
    "tags": []
   },
   "outputs": [
    {
     "data": {
      "image/png": "[encoded data removed]",
      "text/plain": [
       "<Figure size 936x936 with 9 Axes>"
      ]
     },
     "metadata": {
      "needs_background": "light"
     },
     "output_type": "display_data"
    }
   ],
   "source": [
    "# Helper Functions\n",
    "def display_one_image(image, title, subplot, color):\n",
    "    plt.subplot(subplot)\n",
    "    plt.axis('off')\n",
    "    plt.imshow(image)\n",
    "    plt.title(title, fontsize=16)\n",
    "    \n",
    "def display_nine_images(images, titles, title_colors=None):\n",
    "    subplot = 331\n",
    "    plt.figure(figsize=(13,13))\n",
    "    for i in range(9):\n",
    "        color = 'black' if title_colors is None else title_colors[i]\n",
    "        display_one_image(images[i], titles[i], 331+i, color)\n",
    "    plt.tight_layout()\n",
    "    plt.subplots_adjust(wspace=0.1, hspace=0.1)\n",
    "    plt.show()\n",
    "\n",
    "def image_title(label, prediction):\n",
    "  # Both prediction (probabilities) and label (one-hot) are arrays with one item per class.\n",
    "    class_idx = np.argmax(label, axis=-1)\n",
    "    prediction_idx = np.argmax(prediction, axis=-1)\n",
    "    if class_idx == prediction_idx:\n",
    "        return f'{CLASS_LABELS[prediction_idx]} [correct]', 'black'\n",
    "    else:\n",
    "        return f'{CLASS_LABELS[prediction_idx]} [incorrect, should be {CLASS_LABELS[class_idx]}]', 'red'\n",
    "\n",
    "def get_titles(images, labels, model):\n",
    "    predictions = model.predict(images)\n",
    "    titles, colors = [], []\n",
    "    for label, prediction in zip(classes, predictions):\n",
    "        title, color = image_title(label, prediction)\n",
    "        titles.append(title)\n",
    "        colors.append(color)\n",
    "    return titles, colors\n",
    "\n",
    "img_datagen = ImageDataGenerator(rescale = 1./255)\n",
    "img_generator = img_datagen.flow_from_directory(directory = val_dir,\n",
    "                                                   target_size = (IMG_HEIGHT ,IMG_WIDTH),\n",
    "                                                    batch_size = BATCH_SIZE,\n",
    "                                                    shuffle  = True , \n",
    "                                                    color_mode = \"rgb\",\n",
    "                                                    class_mode = \"categorical\",\n",
    "                                                    seed = 12\n",
    "                                                  )\n",
    "clear_output()\n",
    "\n",
    "images, classes = next(img_generator)\n",
    "class_idxs = np.argmax(classes, axis=-1) \n",
    "labels = [CLASS_LABELS[idx] for idx in class_idxs]\n",
    "display_nine_images(images, labels)"
   ]
  },
  {
   "cell_type": "code",
   "execution_count": 5,
   "id": "2c450f72",
   "metadata": {
    "_kg_hide-input": true,
    "execution": {
     "iopub.execute_input": "2024-04-01T20:50:01.727531Z",
     "iopub.status.busy": "2024-04-01T20:50:01.726737Z",
     "iopub.status.idle": "2024-04-01T20:50:02.563593Z",
     "shell.execute_reply": "2024-04-01T20:50:02.564143Z",
     "shell.execute_reply.started": "2024-04-01T09:25:49.736070Z"
    },
    "papermill": {
     "duration": 0.86447,
     "end_time": "2024-04-01T20:50:02.564325",
     "exception": false,
     "start_time": "2024-04-01T20:50:01.699855",
     "status": "completed"
    },
    "tags": []
   },
   "outputs": [
    {
     "data": {
      "text/html": [
       "        <script type=\"text/javascript\">\n",
       "        window.PlotlyConfig = {MathJaxConfig: 'local'};\n",
       "        if (window.MathJax) {MathJax.Hub.Config({SVG: {font: \"STIX-Web\"}});}\n",
       "        if (typeof require !== 'undefined') {\n",
       "        require.undef(\"plotly\");\n",
       "        requirejs.config({\n",
       "            paths: {\n",
       "                'plotly': ['https://cdn.plot.ly/plotly-2.4.2.min']\n",
       "            }\n",
       "        });\n",
       "        require(['plotly'], function(Plotly) {\n",
       "            window._Plotly = Plotly;\n",
       "        });\n",
       "        }\n",
       "        </script>\n",
       "        "
      ]
     },
     "metadata": {},
     "output_type": "display_data"
    },
    {
     "data": {
      "text/html": [
       "<div>                            <div id=\"90596c67-69ff-408a-9323-4bcbc405baec\" class=\"plotly-graph-div\" style=\"height:525px; width:100%;\"></div>            <script type=\"text/javascript\">                require([\"plotly\"], function(Plotly) {                    window.PLOTLYENV=window.PLOTLYENV || {};                                    if (document.getElementById(\"90596c67-69ff-408a-9323-4bcbc405baec\")) {                    Plotly.newPlot(                        \"90596c67-69ff-408a-9323-4bcbc405baec\",                        [{\"alignmentgroup\":\"True\",\"hovertemplate\":\"x=%{x}<br>y=%{y}<br>color=%{marker.color}<extra></extra>\",\"legendgroup\":\"\",\"marker\":{\"color\":[0,1,2,3,4,5,6],\"coloraxis\":\"coloraxis\",\"pattern\":{\"shape\":\"\"}},\"name\":\"\",\"offsetgroup\":\"\",\"orientation\":\"v\",\"showlegend\":false,\"textposition\":\"auto\",\"type\":\"bar\",\"x\":[\"👿\",\"🤢\",\"😱\",\"😊\",\"😐 \",\"😔\",\"😲\"],\"xaxis\":\"x\",\"y\":[3693,336,3803,6864,4682,4638,2905],\"yaxis\":\"y\"}],                        {\"barmode\":\"relative\",\"coloraxis\":{\"colorbar\":{\"title\":{\"text\":\"color\"}},\"colorscale\":[[0.0,\"rgb(211, 242, 163)\"],[0.16666666666666666,\"rgb(151, 225, 150)\"],[0.3333333333333333,\"rgb(108, 192, 139)\"],[0.5,\"rgb(76, 155, 130)\"],[0.6666666666666666,\"rgb(33, 122, 121)\"],[0.8333333333333334,\"rgb(16, 89, 101)\"],[1.0,\"rgb(7, 64, 80)\"]]},\"legend\":{\"tracegroupgap\":0},\"margin\":{\"t\":60},\"showlegend\":true,\"template\":{\"data\":{\"bar\":[{\"error_x\":{\"color\":\"#2a3f5f\"},\"error_y\":{\"color\":\"#2a3f5f\"},\"marker\":{\"line\":{\"color\":\"#E5ECF6\",\"width\":0.5},\"pattern\":{\"fillmode\":\"overlay\",\"size\":10,\"solidity\":0.2}},\"type\":\"bar\"}],\"barpolar\":[{\"marker\":{\"line\":{\"color\":\"#E5ECF6\",\"width\":0.5},\"pattern\":{\"fillmode\":\"overlay\",\"size\":10,\"solidity\":0.2}},\"type\":\"barpolar\"}],\"carpet\":[{\"aaxis\":{\"endlinecolor\":\"#2a3f5f\",\"gridcolor\":\"white\",\"linecolor\":\"white\",\"minorgridcolor\":\"white\",\"startlinecolor\":\"#2a3f5f\"},\"baxis\":{\"endlinecolor\":\"#2a3f5f\",\"gridcolor\":\"white\",\"linecolor\":\"white\",\"minorgridcolor\":\"white\",\"startlinecolor\":\"#2a3f5f\"},\"type\":\"carpet\"}],\"choropleth\":[{\"colorbar\":{\"outlinewidth\":0,\"ticks\":\"\"},\"type\":\"choropleth\"}],\"contour\":[{\"colorbar\":{\"outlinewidth\":0,\"ticks\":\"\"},\"colorscale\":[[0.0,\"#0d0887\"],[0.1111111111111111,\"#46039f\"],[0.2222222222222222,\"#7201a8\"],[0.3333333333333333,\"#9c179e\"],[0.4444444444444444,\"#bd3786\"],[0.5555555555555556,\"#d8576b\"],[0.6666666666666666,\"#ed7953\"],[0.7777777777777778,\"#fb9f3a\"],[0.8888888888888888,\"#fdca26\"],[1.0,\"#f0f921\"]],\"type\":\"contour\"}],\"contourcarpet\":[{\"colorbar\":{\"outlinewidth\":0,\"ticks\":\"\"},\"type\":\"contourcarpet\"}],\"heatmap\":[{\"colorbar\":{\"outlinewidth\":0,\"ticks\":\"\"},\"colorscale\":[[0.0,\"#0d0887\"],[0.1111111111111111,\"#46039f\"],[0.2222222222222222,\"#7201a8\"],[0.3333333333333333,\"#9c179e\"],[0.4444444444444444,\"#bd3786\"],[0.5555555555555556,\"#d8576b\"],[0.6666666666666666,\"#ed7953\"],[0.7777777777777778,\"#fb9f3a\"],[0.8888888888888888,\"#fdca26\"],[1.0,\"#f0f921\"]],\"type\":\"heatmap\"}],\"heatmapgl\":[{\"colorbar\":{\"outlinewidth\":0,\"ticks\":\"\"},\"colorscale\":[[0.0,\"#0d0887\"],[0.1111111111111111,\"#46039f\"],[0.2222222222222222,\"#7201a8\"],[0.3333333333333333,\"#9c179e\"],[0.4444444444444444,\"#bd3786\"],[0.5555555555555556,\"#d8576b\"],[0.6666666666666666,\"#ed7953\"],[0.7777777777777778,\"#fb9f3a\"],[0.8888888888888888,\"#fdca26\"],[1.0,\"#f0f921\"]],\"type\":\"heatmapgl\"}],\"histogram\":[{\"marker\":{\"pattern\":{\"fillmode\":\"overlay\",\"size\":10,\"solidity\":0.2}},\"type\":\"histogram\"}],\"histogram2d\":[{\"colorbar\":{\"outlinewidth\":0,\"ticks\":\"\"},\"colorscale\":[[0.0,\"#0d0887\"],[0.1111111111111111,\"#46039f\"],[0.2222222222222222,\"#7201a8\"],[0.3333333333333333,\"#9c179e\"],[0.4444444444444444,\"#bd3786\"],[0.5555555555555556,\"#d8576b\"],[0.6666666666666666,\"#ed7953\"],[0.7777777777777778,\"#fb9f3a\"],[0.8888888888888888,\"#fdca26\"],[1.0,\"#f0f921\"]],\"type\":\"histogram2d\"}],\"histogram2dcontour\":[{\"colorbar\":{\"outlinewidth\":0,\"ticks\":\"\"},\"colorscale\":[[0.0,\"#0d0887\"],[0.1111111111111111,\"#46039f\"],[0.2222222222222222,\"#7201a8\"],[0.3333333333333333,\"#9c179e\"],[0.4444444444444444,\"#bd3786\"],[0.5555555555555556,\"#d8576b\"],[0.6666666666666666,\"#ed7953\"],[0.7777777777777778,\"#fb9f3a\"],[0.8888888888888888,\"#fdca26\"],[1.0,\"#f0f921\"]],\"type\":\"histogram2dcontour\"}],\"mesh3d\":[{\"colorbar\":{\"outlinewidth\":0,\"ticks\":\"\"},\"type\":\"mesh3d\"}],\"parcoords\":[{\"line\":{\"colorbar\":{\"outlinewidth\":0,\"ticks\":\"\"}},\"type\":\"parcoords\"}],\"pie\":[{\"automargin\":true,\"type\":\"pie\"}],\"scatter\":[{\"marker\":{\"colorbar\":{\"outlinewidth\":0,\"ticks\":\"\"}},\"type\":\"scatter\"}],\"scatter3d\":[{\"line\":{\"colorbar\":{\"outlinewidth\":0,\"ticks\":\"\"}},\"marker\":{\"colorbar\":{\"outlinewidth\":0,\"ticks\":\"\"}},\"type\":\"scatter3d\"}],\"scattercarpet\":[{\"marker\":{\"colorbar\":{\"outlinewidth\":0,\"ticks\":\"\"}},\"type\":\"scattercarpet\"}],\"scattergeo\":[{\"marker\":{\"colorbar\":{\"outlinewidth\":0,\"ticks\":\"\"}},\"type\":\"scattergeo\"}],\"scattergl\":[{\"marker\":{\"colorbar\":{\"outlinewidth\":0,\"ticks\":\"\"}},\"type\":\"scattergl\"}],\"scattermapbox\":[{\"marker\":{\"colorbar\":{\"outlinewidth\":0,\"ticks\":\"\"}},\"type\":\"scattermapbox\"}],\"scatterpolar\":[{\"marker\":{\"colorbar\":{\"outlinewidth\":0,\"ticks\":\"\"}},\"type\":\"scatterpolar\"}],\"scatterpolargl\":[{\"marker\":{\"colorbar\":{\"outlinewidth\":0,\"ticks\":\"\"}},\"type\":\"scatterpolargl\"}],\"scatterternary\":[{\"marker\":{\"colorbar\":{\"outlinewidth\":0,\"ticks\":\"\"}},\"type\":\"scatterternary\"}],\"surface\":[{\"colorbar\":{\"outlinewidth\":0,\"ticks\":\"\"},\"colorscale\":[[0.0,\"#0d0887\"],[0.1111111111111111,\"#46039f\"],[0.2222222222222222,\"#7201a8\"],[0.3333333333333333,\"#9c179e\"],[0.4444444444444444,\"#bd3786\"],[0.5555555555555556,\"#d8576b\"],[0.6666666666666666,\"#ed7953\"],[0.7777777777777778,\"#fb9f3a\"],[0.8888888888888888,\"#fdca26\"],[1.0,\"#f0f921\"]],\"type\":\"surface\"}],\"table\":[{\"cells\":{\"fill\":{\"color\":\"#EBF0F8\"},\"line\":{\"color\":\"white\"}},\"header\":{\"fill\":{\"color\":\"#C8D4E3\"},\"line\":{\"color\":\"white\"}},\"type\":\"table\"}]},\"layout\":{\"annotationdefaults\":{\"arrowcolor\":\"#2a3f5f\",\"arrowhead\":0,\"arrowwidth\":1},\"autotypenumbers\":\"strict\",\"coloraxis\":{\"colorbar\":{\"outlinewidth\":0,\"ticks\":\"\"}},\"colorscale\":{\"diverging\":[[0,\"#8e0152\"],[0.1,\"#c51b7d\"],[0.2,\"#de77ae\"],[0.3,\"#f1b6da\"],[0.4,\"#fde0ef\"],[0.5,\"#f7f7f7\"],[0.6,\"#e6f5d0\"],[0.7,\"#b8e186\"],[0.8,\"#7fbc41\"],[0.9,\"#4d9221\"],[1,\"#276419\"]],\"sequential\":[[0.0,\"#0d0887\"],[0.1111111111111111,\"#46039f\"],[0.2222222222222222,\"#7201a8\"],[0.3333333333333333,\"#9c179e\"],[0.4444444444444444,\"#bd3786\"],[0.5555555555555556,\"#d8576b\"],[0.6666666666666666,\"#ed7953\"],[0.7777777777777778,\"#fb9f3a\"],[0.8888888888888888,\"#fdca26\"],[1.0,\"#f0f921\"]],\"sequentialminus\":[[0.0,\"#0d0887\"],[0.1111111111111111,\"#46039f\"],[0.2222222222222222,\"#7201a8\"],[0.3333333333333333,\"#9c179e\"],[0.4444444444444444,\"#bd3786\"],[0.5555555555555556,\"#d8576b\"],[0.6666666666666666,\"#ed7953\"],[0.7777777777777778,\"#fb9f3a\"],[0.8888888888888888,\"#fdca26\"],[1.0,\"#f0f921\"]]},\"colorway\":[\"#636efa\",\"#EF553B\",\"#00cc96\",\"#ab63fa\",\"#FFA15A\",\"#19d3f3\",\"#FF6692\",\"#B6E880\",\"#FF97FF\",\"#FECB52\"],\"font\":{\"color\":\"#2a3f5f\"},\"geo\":{\"bgcolor\":\"white\",\"lakecolor\":\"white\",\"landcolor\":\"#E5ECF6\",\"showlakes\":true,\"showland\":true,\"subunitcolor\":\"white\"},\"hoverlabel\":{\"align\":\"left\"},\"hovermode\":\"closest\",\"mapbox\":{\"style\":\"light\"},\"paper_bgcolor\":\"white\",\"plot_bgcolor\":\"#E5ECF6\",\"polar\":{\"angularaxis\":{\"gridcolor\":\"white\",\"linecolor\":\"white\",\"ticks\":\"\"},\"bgcolor\":\"#E5ECF6\",\"radialaxis\":{\"gridcolor\":\"white\",\"linecolor\":\"white\",\"ticks\":\"\"}},\"scene\":{\"xaxis\":{\"backgroundcolor\":\"#E5ECF6\",\"gridcolor\":\"white\",\"gridwidth\":2,\"linecolor\":\"white\",\"showbackground\":true,\"ticks\":\"\",\"zerolinecolor\":\"white\"},\"yaxis\":{\"backgroundcolor\":\"#E5ECF6\",\"gridcolor\":\"white\",\"gridwidth\":2,\"linecolor\":\"white\",\"showbackground\":true,\"ticks\":\"\",\"zerolinecolor\":\"white\"},\"zaxis\":{\"backgroundcolor\":\"#E5ECF6\",\"gridcolor\":\"white\",\"gridwidth\":2,\"linecolor\":\"white\",\"showbackground\":true,\"ticks\":\"\",\"zerolinecolor\":\"white\"}},\"shapedefaults\":{\"line\":{\"color\":\"#2a3f5f\"}},\"ternary\":{\"aaxis\":{\"gridcolor\":\"white\",\"linecolor\":\"white\",\"ticks\":\"\"},\"baxis\":{\"gridcolor\":\"white\",\"linecolor\":\"white\",\"ticks\":\"\"},\"bgcolor\":\"#E5ECF6\",\"caxis\":{\"gridcolor\":\"white\",\"linecolor\":\"white\",\"ticks\":\"\"}},\"title\":{\"x\":0.05},\"xaxis\":{\"automargin\":true,\"gridcolor\":\"white\",\"linecolor\":\"white\",\"ticks\":\"\",\"title\":{\"standoff\":15},\"zerolinecolor\":\"white\",\"zerolinewidth\":2},\"yaxis\":{\"automargin\":true,\"gridcolor\":\"white\",\"linecolor\":\"white\",\"ticks\":\"\",\"title\":{\"standoff\":15},\"zerolinecolor\":\"white\",\"zerolinewidth\":2}}},\"title\":{\"text\":\"Train Data Distribution \",\"x\":0.5,\"xanchor\":\"center\",\"y\":0.95,\"yanchor\":\"top\"},\"xaxis\":{\"anchor\":\"y\",\"domain\":[0.0,1.0],\"title\":{\"text\":\"Emotions\"}},\"yaxis\":{\"anchor\":\"x\",\"domain\":[0.0,1.0],\"title\":{\"text\":\"Number of Images\"}}},                        {\"responsive\": true}                    ).then(function(){\n",
       "                            \n",
       "var gd = document.getElementById('90596c67-69ff-408a-9323-4bcbc405baec');\n",
       "var x = new MutationObserver(function (mutations, observer) {{\n",
       "        var display = window.getComputedStyle(gd).display;\n",
       "        if (!display || display === 'none') {{\n",
       "            console.log([gd, 'removed!']);\n",
       "            Plotly.purge(gd);\n",
       "            observer.disconnect();\n",
       "        }}\n",
       "}});\n",
       "\n",
       "// Listen for the removal of the full notebook cells\n",
       "var notebookContainer = gd.closest('#notebook-container');\n",
       "if (notebookContainer) {{\n",
       "    x.observe(notebookContainer, {childList: true});\n",
       "}}\n",
       "\n",
       "// Listen for the clearing of the current output cell\n",
       "var outputEl = gd.closest('.output');\n",
       "if (outputEl) {{\n",
       "    x.observe(outputEl, {childList: true});\n",
       "}}\n",
       "\n",
       "                        })                };                });            </script>        </div>"
      ]
     },
     "metadata": {},
     "output_type": "display_data"
    }
   ],
   "source": [
    "#Data distribution (count) among differnt emotions\n",
    "fig = px.bar(x = CLASS_LABELS_EMOJIS,\n",
    "             y = [list(train_generator.classes).count(i) for i in np.unique(train_generator.classes)] , \n",
    "             color = np.unique(train_generator.classes) ,\n",
    "             color_continuous_scale=\"Emrld\") \n",
    "fig.update_xaxes(title=\"Emotions\")\n",
    "fig.update_yaxes(title = \"Number of Images\")\n",
    "fig.update_layout(showlegend = True,\n",
    "    title = {\n",
    "        'text': 'Train Data Distribution ',\n",
    "        'y':0.95,\n",
    "        'x':0.5,\n",
    "        'xanchor': 'center',\n",
    "        'yanchor': 'top'})\n",
    "fig.show()"
   ]
  },
  {
   "cell_type": "code",
   "execution_count": 6,
   "id": "8f5e4afa",
   "metadata": {
    "execution": {
     "iopub.execute_input": "2024-04-01T20:50:02.619220Z",
     "iopub.status.busy": "2024-04-01T20:50:02.614407Z",
     "iopub.status.idle": "2024-04-01T20:50:02.621657Z",
     "shell.execute_reply": "2024-04-01T20:50:02.621057Z",
     "shell.execute_reply.started": "2024-04-01T09:25:50.552773Z"
    },
    "papermill": {
     "duration": 0.035735,
     "end_time": "2024-04-01T20:50:02.621791",
     "exception": false,
     "start_time": "2024-04-01T20:50:02.586056",
     "status": "completed"
    },
    "tags": []
   },
   "outputs": [],
   "source": [
    "#DenseNet169 \n",
    "#In feature_extractor weights are set to false, so no transfer learning\n",
    "def feature_extractor(inputs):\n",
    "    feature_extractor = tf.keras.applications.DenseNet169(input_shape=(IMG_HEIGHT,IMG_WIDTH, 3),\n",
    "                                               include_top=False,\n",
    "                                               weights=None)(inputs)\n",
    "    \n",
    "    return feature_extractor\n",
    "\n",
    "# Addding a some layer at the top of DenseNet169 that will aid in Classification\n",
    "def classifier(inputs):\n",
    "    x = tf.keras.layers.GlobalAveragePooling2D()(inputs)\n",
    "    x = tf.keras.layers.Dense(256, activation=\"relu\", kernel_regularizer = tf.keras.regularizers.l2(0.01))(x)\n",
    "    x = tf.keras.layers.Dropout(0.3)(x)\n",
    "    x = tf.keras.layers.Dense(1024, activation=\"relu\", kernel_regularizer = tf.keras.regularizers.l2(0.01))(x)\n",
    "    x = tf.keras.layers.Dropout(0.5)(x)\n",
    "    x = tf.keras.layers.Dense(512, activation=\"relu\", kernel_regularizer = tf.keras.regularizers.l2(0.01))(x)\n",
    "    x = tf.keras.layers.Dropout(0.5) (x)\n",
    "    x = tf.keras.layers.Dense(NUM_CLASSES, activation=\"softmax\", name=\"classification\")(x)\n",
    "    \n",
    "    return x\n",
    "\n",
    "def final_model(inputs):\n",
    "    densenet_feature_extractor = feature_extractor(inputs)\n",
    "    classification_output = classifier(densenet_feature_extractor)\n",
    "    \n",
    "    return classification_output\n",
    "\n",
    "def define_compile_model():\n",
    "    \n",
    "    inputs = tf.keras.layers.Input(shape=(IMG_HEIGHT ,IMG_WIDTH,3))\n",
    "    classification_output = final_model(inputs) \n",
    "    model = tf.keras.Model(inputs=inputs, outputs = classification_output)\n",
    "     \n",
    "    model.compile(optimizer=tf.keras.optimizers.SGD(0.1), \n",
    "                loss='categorical_crossentropy',\n",
    "                metrics = ['accuracy'])\n",
    "  \n",
    "    return model"
   ]
  },
  {
   "cell_type": "markdown",
   "id": "155ee3e2",
   "metadata": {
    "papermill": {
     "duration": 0.021401,
     "end_time": "2024-04-01T20:50:02.664246",
     "exception": false,
     "start_time": "2024-04-01T20:50:02.642845",
     "status": "completed"
    },
    "tags": []
   },
   "source": [
    "## Summary of model"
   ]
  },
  {
   "cell_type": "code",
   "execution_count": 7,
   "id": "dd317707",
   "metadata": {
    "_kg_hide-input": true,
    "execution": {
     "iopub.execute_input": "2024-04-01T20:50:02.712759Z",
     "iopub.status.busy": "2024-04-01T20:50:02.712111Z",
     "iopub.status.idle": "2024-04-01T20:50:09.595829Z",
     "shell.execute_reply": "2024-04-01T20:50:09.595123Z",
     "shell.execute_reply.started": "2024-04-01T09:25:50.566519Z"
    },
    "papermill": {
     "duration": 6.909862,
     "end_time": "2024-04-01T20:50:09.595979",
     "exception": false,
     "start_time": "2024-04-01T20:50:02.686117",
     "status": "completed"
    },
    "tags": []
   },
   "outputs": [
    {
     "name": "stdout",
     "output_type": "stream",
     "text": [
      "Model: \"model\"\n",
      "_________________________________________________________________\n",
      "Layer (type)                 Output Shape              Param #   \n",
      "=================================================================\n",
      "input_1 (InputLayer)         [(None, 48, 48, 3)]       0         \n",
      "_________________________________________________________________\n",
      "densenet169 (Functional)     (None, 1, 1, 1664)        12642880  \n",
      "_________________________________________________________________\n",
      "global_average_pooling2d (Gl (None, 1664)              0         \n",
      "_________________________________________________________________\n",
      "dense (Dense)                (None, 256)               426240    \n",
      "_________________________________________________________________\n",
      "dropout (Dropout)            (None, 256)               0         \n",
      "_________________________________________________________________\n",
      "dense_1 (Dense)              (None, 1024)              263168    \n",
      "_________________________________________________________________\n",
      "dropout_1 (Dropout)          (None, 1024)              0         \n",
      "_________________________________________________________________\n",
      "dense_2 (Dense)              (None, 512)               524800    \n",
      "_________________________________________________________________\n",
      "dropout_2 (Dropout)          (None, 512)               0         \n",
      "_________________________________________________________________\n",
      "classification (Dense)       (None, 7)                 3591      \n",
      "=================================================================\n",
      "Total params: 13,860,679\n",
      "Trainable params: 13,702,279\n",
      "Non-trainable params: 158,400\n",
      "_________________________________________________________________\n"
     ]
    }
   ],
   "source": [
    "model = define_compile_model()\n",
    "clear_output()\n",
    "\n",
    "# Making all the DenseNet169 Layers trainable\n",
    "model.layers[1].trainable = True\n",
    "\n",
    "model.summary()"
   ]
  },
  {
   "cell_type": "code",
   "execution_count": 8,
   "id": "fa2610e7",
   "metadata": {
    "_kg_hide-output": true,
    "execution": {
     "iopub.execute_input": "2024-04-01T20:50:09.655684Z",
     "iopub.status.busy": "2024-04-01T20:50:09.654876Z",
     "iopub.status.idle": "2024-04-01T22:45:07.222730Z",
     "shell.execute_reply": "2024-04-01T22:45:07.222167Z"
    },
    "papermill": {
     "duration": 6897.603001,
     "end_time": "2024-04-01T22:45:07.222900",
     "exception": false,
     "start_time": "2024-04-01T20:50:09.619899",
     "status": "completed"
    },
    "tags": []
   },
   "outputs": [
    {
     "name": "stdout",
     "output_type": "stream",
     "text": [
      "Epoch 1/100\n",
      "421/421 [==============================] - 259s 569ms/step - loss: 9.2555 - accuracy: 0.2482\n",
      "Epoch 2/100\n",
      "421/421 [==============================] - 63s 150ms/step - loss: 3.1305 - accuracy: 0.2885\n",
      "Epoch 3/100\n",
      "421/421 [==============================] - 67s 158ms/step - loss: 1.9257 - accuracy: 0.3351\n",
      "Epoch 4/100\n",
      "421/421 [==============================] - 66s 157ms/step - loss: 1.6362 - accuracy: 0.3735\n",
      "Epoch 5/100\n",
      "421/421 [==============================] - 67s 158ms/step - loss: 1.5369 - accuracy: 0.3936\n",
      "Epoch 6/100\n",
      "421/421 [==============================] - 67s 158ms/step - loss: 1.4811 - accuracy: 0.4132\n",
      "Epoch 7/100\n",
      "421/421 [==============================] - 66s 158ms/step - loss: 1.4459 - accuracy: 0.4265\n",
      "Epoch 8/100\n",
      "421/421 [==============================] - 65s 154ms/step - loss: 1.4179 - accuracy: 0.4454\n",
      "Epoch 9/100\n",
      "421/421 [==============================] - 83s 198ms/step - loss: 1.3878 - accuracy: 0.4601\n",
      "Epoch 10/100\n",
      "421/421 [==============================] - 69s 163ms/step - loss: 1.3684 - accuracy: 0.4817\n",
      "Epoch 11/100\n",
      "421/421 [==============================] - 65s 154ms/step - loss: 1.3404 - accuracy: 0.4953\n",
      "Epoch 12/100\n",
      "421/421 [==============================] - 66s 156ms/step - loss: 1.3138 - accuracy: 0.5105\n",
      "Epoch 13/100\n",
      "421/421 [==============================] - 65s 155ms/step - loss: 1.2937 - accuracy: 0.5232\n",
      "Epoch 14/100\n",
      "421/421 [==============================] - 66s 157ms/step - loss: 1.2697 - accuracy: 0.5372\n",
      "Epoch 15/100\n",
      "421/421 [==============================] - 66s 157ms/step - loss: 1.2534 - accuracy: 0.5435\n",
      "Epoch 16/100\n",
      "421/421 [==============================] - 66s 157ms/step - loss: 1.2333 - accuracy: 0.5561\n",
      "Epoch 17/100\n",
      "421/421 [==============================] - 66s 157ms/step - loss: 1.2144 - accuracy: 0.5688\n",
      "Epoch 18/100\n",
      "421/421 [==============================] - 66s 157ms/step - loss: 1.1967 - accuracy: 0.5795\n",
      "Epoch 19/100\n",
      "421/421 [==============================] - 67s 158ms/step - loss: 1.1812 - accuracy: 0.5865\n",
      "Epoch 20/100\n",
      "421/421 [==============================] - 92s 217ms/step - loss: 1.1579 - accuracy: 0.5964\n",
      "Epoch 21/100\n",
      "421/421 [==============================] - 87s 206ms/step - loss: 1.1422 - accuracy: 0.6054\n",
      "Epoch 22/100\n",
      "421/421 [==============================] - 89s 211ms/step - loss: 1.1206 - accuracy: 0.6149\n",
      "Epoch 23/100\n",
      "421/421 [==============================] - 90s 213ms/step - loss: 1.1092 - accuracy: 0.6210\n",
      "Epoch 24/100\n",
      "421/421 [==============================] - 84s 199ms/step - loss: 1.0940 - accuracy: 0.6275\n",
      "Epoch 25/100\n",
      "421/421 [==============================] - 77s 184ms/step - loss: 1.0818 - accuracy: 0.6337\n",
      "Epoch 26/100\n",
      "421/421 [==============================] - 72s 170ms/step - loss: 1.0678 - accuracy: 0.6423\n",
      "Epoch 27/100\n",
      "421/421 [==============================] - 74s 176ms/step - loss: 1.0519 - accuracy: 0.6511\n",
      "Epoch 28/100\n",
      "421/421 [==============================] - 66s 156ms/step - loss: 1.0322 - accuracy: 0.6563\n",
      "Epoch 29/100\n",
      "421/421 [==============================] - 65s 155ms/step - loss: 1.0207 - accuracy: 0.6615\n",
      "Epoch 30/100\n",
      "421/421 [==============================] - 66s 157ms/step - loss: 1.0048 - accuracy: 0.6680\n",
      "Epoch 31/100\n",
      "421/421 [==============================] - 64s 153ms/step - loss: 0.9902 - accuracy: 0.6735\n",
      "Epoch 32/100\n",
      "421/421 [==============================] - 66s 157ms/step - loss: 0.9745 - accuracy: 0.6791\n",
      "Epoch 33/100\n",
      "421/421 [==============================] - 65s 155ms/step - loss: 0.9718 - accuracy: 0.6831\n",
      "Epoch 34/100\n",
      "421/421 [==============================] - 66s 156ms/step - loss: 0.9542 - accuracy: 0.6894\n",
      "Epoch 35/100\n",
      "421/421 [==============================] - 67s 159ms/step - loss: 0.9386 - accuracy: 0.6953\n",
      "Epoch 36/100\n",
      "421/421 [==============================] - 66s 156ms/step - loss: 0.9230 - accuracy: 0.7020\n",
      "Epoch 37/100\n",
      "421/421 [==============================] - 65s 155ms/step - loss: 0.9201 - accuracy: 0.7043\n",
      "Epoch 38/100\n",
      "421/421 [==============================] - 65s 155ms/step - loss: 0.9001 - accuracy: 0.7112\n",
      "Epoch 39/100\n",
      "421/421 [==============================] - 66s 157ms/step - loss: 0.8986 - accuracy: 0.7132\n",
      "Epoch 40/100\n",
      "421/421 [==============================] - 65s 155ms/step - loss: 0.8766 - accuracy: 0.7213\n",
      "Epoch 41/100\n",
      "421/421 [==============================] - 64s 153ms/step - loss: 0.8680 - accuracy: 0.7264\n",
      "Epoch 42/100\n",
      "421/421 [==============================] - 65s 155ms/step - loss: 0.8463 - accuracy: 0.7336\n",
      "Epoch 43/100\n",
      "421/421 [==============================] - 65s 153ms/step - loss: 0.8394 - accuracy: 0.7385\n",
      "Epoch 44/100\n",
      "421/421 [==============================] - 66s 157ms/step - loss: 0.8268 - accuracy: 0.7417\n",
      "Epoch 45/100\n",
      "421/421 [==============================] - 66s 156ms/step - loss: 0.8102 - accuracy: 0.7490\n",
      "Epoch 46/100\n",
      "421/421 [==============================] - 66s 157ms/step - loss: 0.7955 - accuracy: 0.7527\n",
      "Epoch 47/100\n",
      "421/421 [==============================] - 65s 153ms/step - loss: 0.7877 - accuracy: 0.7555\n",
      "Epoch 48/100\n",
      "421/421 [==============================] - 65s 155ms/step - loss: 0.7696 - accuracy: 0.7650\n",
      "Epoch 49/100\n",
      "421/421 [==============================] - 69s 162ms/step - loss: 0.7615 - accuracy: 0.7665\n",
      "Epoch 50/100\n",
      "421/421 [==============================] - 65s 155ms/step - loss: 0.7412 - accuracy: 0.7752\n",
      "Epoch 51/100\n",
      "421/421 [==============================] - 68s 161ms/step - loss: 0.7377 - accuracy: 0.7776\n",
      "Epoch 52/100\n",
      "421/421 [==============================] - 72s 171ms/step - loss: 0.7306 - accuracy: 0.7795\n",
      "Epoch 53/100\n",
      "421/421 [==============================] - 65s 155ms/step - loss: 0.7065 - accuracy: 0.7876\n",
      "Epoch 54/100\n",
      "421/421 [==============================] - 65s 154ms/step - loss: 0.7114 - accuracy: 0.7898\n",
      "Epoch 55/100\n",
      "421/421 [==============================] - 65s 153ms/step - loss: 0.6925 - accuracy: 0.7948\n",
      "Epoch 56/100\n",
      "421/421 [==============================] - 66s 156ms/step - loss: 0.6811 - accuracy: 0.7994\n",
      "Epoch 57/100\n",
      "421/421 [==============================] - 65s 154ms/step - loss: 0.6657 - accuracy: 0.8047\n",
      "Epoch 58/100\n",
      "421/421 [==============================] - 66s 157ms/step - loss: 0.6581 - accuracy: 0.8077\n",
      "Epoch 59/100\n",
      "421/421 [==============================] - 67s 159ms/step - loss: 0.6396 - accuracy: 0.8128\n",
      "Epoch 60/100\n",
      "421/421 [==============================] - 66s 158ms/step - loss: 0.6375 - accuracy: 0.8154\n",
      "Epoch 61/100\n",
      "421/421 [==============================] - 65s 154ms/step - loss: 0.6252 - accuracy: 0.8206\n",
      "Epoch 62/100\n",
      "421/421 [==============================] - 66s 157ms/step - loss: 0.6136 - accuracy: 0.8255\n",
      "Epoch 63/100\n",
      "421/421 [==============================] - 65s 154ms/step - loss: 0.6014 - accuracy: 0.8295\n",
      "Epoch 64/100\n",
      "421/421 [==============================] - 65s 155ms/step - loss: 0.5936 - accuracy: 0.8315\n",
      "Epoch 65/100\n",
      "421/421 [==============================] - 65s 154ms/step - loss: 0.5869 - accuracy: 0.8327\n",
      "Epoch 66/100\n",
      "421/421 [==============================] - 65s 154ms/step - loss: 0.5705 - accuracy: 0.8402\n",
      "Epoch 67/100\n",
      "421/421 [==============================] - 64s 152ms/step - loss: 0.5694 - accuracy: 0.8406\n",
      "Epoch 68/100\n",
      "421/421 [==============================] - 65s 154ms/step - loss: 0.5580 - accuracy: 0.8450\n",
      "Epoch 69/100\n",
      "421/421 [==============================] - 65s 155ms/step - loss: 0.5432 - accuracy: 0.8468\n",
      "Epoch 70/100\n",
      "421/421 [==============================] - 65s 155ms/step - loss: 0.5322 - accuracy: 0.8545\n",
      "Epoch 71/100\n",
      "421/421 [==============================] - 65s 154ms/step - loss: 0.5245 - accuracy: 0.8549\n",
      "Epoch 72/100\n",
      "421/421 [==============================] - 65s 153ms/step - loss: 0.5230 - accuracy: 0.8552\n",
      "Epoch 73/100\n",
      "421/421 [==============================] - 64s 153ms/step - loss: 0.5056 - accuracy: 0.8618\n",
      "Epoch 74/100\n",
      "421/421 [==============================] - 64s 153ms/step - loss: 0.5101 - accuracy: 0.8620\n",
      "Epoch 75/100\n",
      "421/421 [==============================] - 64s 153ms/step - loss: 0.4988 - accuracy: 0.8635\n",
      "Epoch 76/100\n",
      "421/421 [==============================] - 64s 152ms/step - loss: 0.4906 - accuracy: 0.8655\n",
      "Epoch 77/100\n",
      "421/421 [==============================] - 64s 153ms/step - loss: 0.4770 - accuracy: 0.8708\n",
      "Epoch 78/100\n",
      "421/421 [==============================] - 64s 152ms/step - loss: 0.4647 - accuracy: 0.8762\n",
      "Epoch 79/100\n",
      "421/421 [==============================] - 64s 152ms/step - loss: 0.4525 - accuracy: 0.8804\n",
      "Epoch 80/100\n",
      "421/421 [==============================] - 64s 152ms/step - loss: 0.4482 - accuracy: 0.8831\n",
      "Epoch 81/100\n",
      "421/421 [==============================] - 65s 155ms/step - loss: 0.4415 - accuracy: 0.8842\n",
      "Epoch 82/100\n",
      "421/421 [==============================] - 65s 154ms/step - loss: 0.4289 - accuracy: 0.8868\n",
      "Epoch 83/100\n",
      "421/421 [==============================] - 65s 154ms/step - loss: 0.4250 - accuracy: 0.8908\n",
      "Epoch 84/100\n",
      "421/421 [==============================] - 63s 150ms/step - loss: 0.4152 - accuracy: 0.8925\n",
      "Epoch 85/100\n",
      "421/421 [==============================] - 65s 153ms/step - loss: 0.4200 - accuracy: 0.8907\n",
      "Epoch 86/100\n",
      "421/421 [==============================] - 65s 153ms/step - loss: 0.4111 - accuracy: 0.8963\n",
      "Epoch 87/100\n",
      "421/421 [==============================] - 63s 149ms/step - loss: 0.4156 - accuracy: 0.8951\n",
      "Epoch 88/100\n",
      "421/421 [==============================] - 64s 152ms/step - loss: 0.3957 - accuracy: 0.8970\n",
      "Epoch 89/100\n",
      "421/421 [==============================] - 63s 149ms/step - loss: 0.3968 - accuracy: 0.8986\n",
      "Epoch 90/100\n",
      "421/421 [==============================] - 66s 157ms/step - loss: 0.3859 - accuracy: 0.9016\n",
      "Epoch 91/100\n",
      "421/421 [==============================] - 63s 150ms/step - loss: 0.3710 - accuracy: 0.9068\n",
      "Epoch 92/100\n",
      "421/421 [==============================] - 64s 153ms/step - loss: 0.3740 - accuracy: 0.9044\n",
      "Epoch 93/100\n",
      "421/421 [==============================] - 63s 148ms/step - loss: 0.3590 - accuracy: 0.9092\n",
      "Epoch 94/100\n",
      "421/421 [==============================] - 65s 154ms/step - loss: 0.3626 - accuracy: 0.9100\n",
      "Epoch 95/100\n",
      "421/421 [==============================] - 63s 150ms/step - loss: 0.3512 - accuracy: 0.9122\n",
      "Epoch 96/100\n",
      "421/421 [==============================] - 64s 152ms/step - loss: 0.3497 - accuracy: 0.9148\n",
      "Epoch 97/100\n",
      "421/421 [==============================] - 63s 150ms/step - loss: 0.3481 - accuracy: 0.9150\n",
      "Epoch 98/100\n",
      "421/421 [==============================] - 63s 149ms/step - loss: 0.3345 - accuracy: 0.9185\n",
      "Epoch 99/100\n",
      "421/421 [==============================] - 64s 152ms/step - loss: 0.3493 - accuracy: 0.9143\n",
      "Epoch 100/100\n",
      "421/421 [==============================] - 64s 151ms/step - loss: 0.3221 - accuracy: 0.9230\n"
     ]
    }
   ],
   "source": [
    "#Employing early stopping which prevents overfitting \n",
    "earlyStoppingCallback = tf.keras.callbacks.EarlyStopping(monitor='val_loss', \n",
    "                                                         patience=EARLY_STOPPING_CRITERIA,\n",
    "                                                         verbose= 1 ,\n",
    "                                                         restore_best_weights=True\n",
    "                                                        )\n",
    "#Fitting train data over model and storing the loss history in the variable loss \n",
    "history = model.fit(x = train_generator,\n",
    "                    epochs = EPOCHS ,\n",
    "                    validation_data = validation_generator , \n",
    "                    callbacks= [earlyStoppingCallback])\n",
    "#Creating dataframe of the history\n",
    "history = pd.DataFrame(history.history)"
   ]
  },
  {
   "cell_type": "code",
   "execution_count": 9,
   "id": "9d32f5b6",
   "metadata": {
    "_kg_hide-output": true,
    "execution": {
     "iopub.execute_input": "2024-04-01T22:45:35.426499Z",
     "iopub.status.busy": "2024-04-01T22:45:35.421425Z",
     "iopub.status.idle": "2024-04-02T00:35:41.745373Z",
     "shell.execute_reply": "2024-04-02T00:35:41.745856Z"
    },
    "papermill": {
     "duration": 6620.530171,
     "end_time": "2024-04-02T00:35:41.746066",
     "exception": false,
     "start_time": "2024-04-01T22:45:21.215895",
     "status": "completed"
    },
    "tags": []
   },
   "outputs": [
    {
     "name": "stdout",
     "output_type": "stream",
     "text": [
      "Epoch 1/100\n",
      "421/421 [==============================] - 75s 149ms/step - loss: 0.2852 - accuracy: 0.9335\n",
      "Epoch 2/100\n",
      "421/421 [==============================] - 65s 153ms/step - loss: 0.2594 - accuracy: 0.9421\n",
      "Epoch 3/100\n",
      "421/421 [==============================] - 62s 148ms/step - loss: 0.2375 - accuracy: 0.9479\n",
      "Epoch 4/100\n",
      "421/421 [==============================] - 63s 149ms/step - loss: 0.2277 - accuracy: 0.9522\n",
      "Epoch 5/100\n",
      "421/421 [==============================] - 64s 152ms/step - loss: 0.2182 - accuracy: 0.9546\n",
      "Epoch 6/100\n",
      "421/421 [==============================] - 62s 147ms/step - loss: 0.2136 - accuracy: 0.9564\n",
      "Epoch 7/100\n",
      "421/421 [==============================] - 64s 151ms/step - loss: 0.2062 - accuracy: 0.9583\n",
      "Epoch 8/100\n",
      "421/421 [==============================] - 63s 149ms/step - loss: 0.2003 - accuracy: 0.9600\n",
      "Epoch 9/100\n",
      "421/421 [==============================] - 64s 151ms/step - loss: 0.1990 - accuracy: 0.9597\n",
      "Epoch 10/100\n",
      "421/421 [==============================] - 62s 146ms/step - loss: 0.1930 - accuracy: 0.9620\n",
      "Epoch 11/100\n",
      "421/421 [==============================] - 63s 150ms/step - loss: 0.1949 - accuracy: 0.9607\n",
      "Epoch 12/100\n",
      "421/421 [==============================] - 61s 145ms/step - loss: 0.1865 - accuracy: 0.9633\n",
      "Epoch 13/100\n",
      "421/421 [==============================] - 63s 151ms/step - loss: 0.1928 - accuracy: 0.9626\n",
      "Epoch 14/100\n",
      "421/421 [==============================] - 64s 151ms/step - loss: 0.1845 - accuracy: 0.9642\n",
      "Epoch 15/100\n",
      "421/421 [==============================] - 68s 162ms/step - loss: 0.1818 - accuracy: 0.9632\n",
      "Epoch 16/100\n",
      "421/421 [==============================] - 65s 155ms/step - loss: 0.1807 - accuracy: 0.9639\n",
      "Epoch 17/100\n",
      "421/421 [==============================] - 65s 153ms/step - loss: 0.1824 - accuracy: 0.9637\n",
      "Epoch 18/100\n",
      "421/421 [==============================] - 64s 151ms/step - loss: 0.1747 - accuracy: 0.9657\n",
      "Epoch 19/100\n",
      "421/421 [==============================] - 63s 149ms/step - loss: 0.1772 - accuracy: 0.9663\n",
      "Epoch 20/100\n",
      "421/421 [==============================] - 65s 153ms/step - loss: 0.1739 - accuracy: 0.9661\n",
      "Epoch 21/100\n",
      "421/421 [==============================] - 63s 149ms/step - loss: 0.1697 - accuracy: 0.9681\n",
      "Epoch 22/100\n",
      "421/421 [==============================] - 66s 156ms/step - loss: 0.1670 - accuracy: 0.9679\n",
      "Epoch 23/100\n",
      "421/421 [==============================] - 64s 152ms/step - loss: 0.1694 - accuracy: 0.9670\n",
      "Epoch 24/100\n",
      "421/421 [==============================] - 66s 157ms/step - loss: 0.1640 - accuracy: 0.9690\n",
      "Epoch 25/100\n",
      "421/421 [==============================] - 63s 151ms/step - loss: 0.1671 - accuracy: 0.9668\n",
      "Epoch 26/100\n",
      "421/421 [==============================] - 66s 156ms/step - loss: 0.1653 - accuracy: 0.9681\n",
      "Epoch 27/100\n",
      "421/421 [==============================] - 63s 149ms/step - loss: 0.1612 - accuracy: 0.9692\n",
      "Epoch 28/100\n",
      "421/421 [==============================] - 65s 154ms/step - loss: 0.1569 - accuracy: 0.9708\n",
      "Epoch 29/100\n",
      "421/421 [==============================] - 64s 152ms/step - loss: 0.1586 - accuracy: 0.9691\n",
      "Epoch 30/100\n",
      "421/421 [==============================] - 63s 150ms/step - loss: 0.1611 - accuracy: 0.9686\n",
      "Epoch 31/100\n",
      "421/421 [==============================] - 66s 157ms/step - loss: 0.1570 - accuracy: 0.9705\n",
      "Epoch 32/100\n",
      "421/421 [==============================] - 76s 181ms/step - loss: 0.1592 - accuracy: 0.9688\n",
      "Epoch 33/100\n",
      "421/421 [==============================] - 73s 173ms/step - loss: 0.1559 - accuracy: 0.9702\n",
      "Epoch 34/100\n",
      "421/421 [==============================] - 67s 160ms/step - loss: 0.1518 - accuracy: 0.9711\n",
      "Epoch 35/100\n",
      "421/421 [==============================] - 70s 165ms/step - loss: 0.1553 - accuracy: 0.9701\n",
      "Epoch 36/100\n",
      "421/421 [==============================] - 66s 158ms/step - loss: 0.1556 - accuracy: 0.9705\n",
      "Epoch 37/100\n",
      "421/421 [==============================] - 69s 163ms/step - loss: 0.1542 - accuracy: 0.9705\n",
      "Epoch 38/100\n",
      "421/421 [==============================] - 65s 153ms/step - loss: 0.1511 - accuracy: 0.9705\n",
      "Epoch 39/100\n",
      "421/421 [==============================] - 66s 157ms/step - loss: 0.1541 - accuracy: 0.9705\n",
      "Epoch 40/100\n",
      "421/421 [==============================] - 63s 149ms/step - loss: 0.1507 - accuracy: 0.9712\n",
      "Epoch 41/100\n",
      "421/421 [==============================] - 67s 159ms/step - loss: 0.1512 - accuracy: 0.9717\n",
      "Epoch 42/100\n",
      "421/421 [==============================] - 65s 153ms/step - loss: 0.1476 - accuracy: 0.9730\n",
      "Epoch 43/100\n",
      "421/421 [==============================] - 65s 154ms/step - loss: 0.1496 - accuracy: 0.9717\n",
      "Epoch 44/100\n",
      "421/421 [==============================] - 65s 154ms/step - loss: 0.1486 - accuracy: 0.9730\n",
      "Epoch 45/100\n",
      "421/421 [==============================] - 64s 151ms/step - loss: 0.1446 - accuracy: 0.9722\n",
      "Epoch 46/100\n",
      "421/421 [==============================] - 66s 158ms/step - loss: 0.1439 - accuracy: 0.9730\n",
      "Epoch 47/100\n",
      "421/421 [==============================] - 63s 149ms/step - loss: 0.1481 - accuracy: 0.9716\n",
      "Epoch 48/100\n",
      "421/421 [==============================] - 65s 155ms/step - loss: 0.1422 - accuracy: 0.9740\n",
      "Epoch 49/100\n",
      "421/421 [==============================] - 63s 148ms/step - loss: 0.1374 - accuracy: 0.9750\n",
      "Epoch 50/100\n",
      "421/421 [==============================] - 65s 154ms/step - loss: 0.1403 - accuracy: 0.9746\n",
      "Epoch 51/100\n",
      "421/421 [==============================] - 64s 151ms/step - loss: 0.1401 - accuracy: 0.9740\n",
      "Epoch 52/100\n",
      "421/421 [==============================] - 63s 151ms/step - loss: 0.1401 - accuracy: 0.9728\n",
      "Epoch 53/100\n",
      "421/421 [==============================] - 65s 154ms/step - loss: 0.1420 - accuracy: 0.9734\n",
      "Epoch 54/100\n",
      "421/421 [==============================] - 62s 148ms/step - loss: 0.1394 - accuracy: 0.9721\n",
      "Epoch 55/100\n",
      "421/421 [==============================] - 66s 155ms/step - loss: 0.1401 - accuracy: 0.9741\n",
      "Epoch 56/100\n",
      "421/421 [==============================] - 64s 151ms/step - loss: 0.1359 - accuracy: 0.9746\n",
      "Epoch 57/100\n",
      "421/421 [==============================] - 67s 159ms/step - loss: 0.1364 - accuracy: 0.9740\n",
      "Epoch 58/100\n",
      "421/421 [==============================] - 64s 151ms/step - loss: 0.1366 - accuracy: 0.9743\n",
      "Epoch 59/100\n",
      "421/421 [==============================] - 64s 152ms/step - loss: 0.1343 - accuracy: 0.9748\n",
      "Epoch 60/100\n",
      "421/421 [==============================] - 65s 154ms/step - loss: 0.1330 - accuracy: 0.9754\n",
      "Epoch 61/100\n",
      "421/421 [==============================] - 63s 150ms/step - loss: 0.1329 - accuracy: 0.9757\n",
      "Epoch 62/100\n",
      "421/421 [==============================] - 67s 159ms/step - loss: 0.1335 - accuracy: 0.9746\n",
      "Epoch 63/100\n",
      "421/421 [==============================] - 64s 152ms/step - loss: 0.1321 - accuracy: 0.9755\n",
      "Epoch 64/100\n",
      "421/421 [==============================] - 68s 161ms/step - loss: 0.1367 - accuracy: 0.9740\n",
      "Epoch 65/100\n",
      "421/421 [==============================] - 66s 157ms/step - loss: 0.1347 - accuracy: 0.9750\n",
      "Epoch 66/100\n",
      "421/421 [==============================] - 95s 226ms/step - loss: 0.1293 - accuracy: 0.9764\n",
      "Epoch 67/100\n",
      "421/421 [==============================] - 75s 177ms/step - loss: 0.1346 - accuracy: 0.9746\n",
      "Epoch 68/100\n",
      "421/421 [==============================] - 67s 158ms/step - loss: 0.1287 - accuracy: 0.9762\n",
      "Epoch 69/100\n",
      "421/421 [==============================] - 66s 156ms/step - loss: 0.1315 - accuracy: 0.9752\n",
      "Epoch 70/100\n",
      "421/421 [==============================] - 67s 159ms/step - loss: 0.1321 - accuracy: 0.9758\n",
      "Epoch 71/100\n",
      "421/421 [==============================] - 71s 169ms/step - loss: 0.1315 - accuracy: 0.9746\n",
      "Epoch 72/100\n",
      "421/421 [==============================] - 66s 156ms/step - loss: 0.1293 - accuracy: 0.9756\n",
      "Epoch 73/100\n",
      "421/421 [==============================] - 70s 166ms/step - loss: 0.1295 - accuracy: 0.9753\n",
      "Epoch 74/100\n",
      "421/421 [==============================] - 94s 223ms/step - loss: 0.1320 - accuracy: 0.9757\n",
      "Epoch 75/100\n",
      "421/421 [==============================] - 69s 164ms/step - loss: 0.1300 - accuracy: 0.9744\n",
      "Epoch 76/100\n",
      "421/421 [==============================] - 63s 151ms/step - loss: 0.1312 - accuracy: 0.9759\n",
      "Epoch 77/100\n",
      "421/421 [==============================] - 64s 151ms/step - loss: 0.1246 - accuracy: 0.9780\n",
      "Epoch 78/100\n",
      "421/421 [==============================] - 69s 164ms/step - loss: 0.1246 - accuracy: 0.9771\n",
      "Epoch 79/100\n",
      "421/421 [==============================] - 65s 155ms/step - loss: 0.1269 - accuracy: 0.9766\n",
      "Epoch 80/100\n",
      "421/421 [==============================] - 65s 153ms/step - loss: 0.1279 - accuracy: 0.9775\n",
      "Epoch 81/100\n",
      "421/421 [==============================] - 64s 152ms/step - loss: 0.1237 - accuracy: 0.9776\n",
      "Epoch 82/100\n",
      "421/421 [==============================] - 67s 159ms/step - loss: 0.1243 - accuracy: 0.9772\n",
      "Epoch 83/100\n",
      "421/421 [==============================] - 63s 150ms/step - loss: 0.1301 - accuracy: 0.9749\n",
      "Epoch 84/100\n",
      "421/421 [==============================] - 65s 154ms/step - loss: 0.1251 - accuracy: 0.9772\n",
      "Epoch 85/100\n",
      "421/421 [==============================] - 64s 152ms/step - loss: 0.1259 - accuracy: 0.9769\n",
      "Epoch 86/100\n",
      "421/421 [==============================] - 68s 161ms/step - loss: 0.1218 - accuracy: 0.9775\n",
      "Epoch 87/100\n",
      "421/421 [==============================] - 64s 152ms/step - loss: 0.1235 - accuracy: 0.9785\n",
      "Epoch 88/100\n",
      "421/421 [==============================] - 64s 151ms/step - loss: 0.1249 - accuracy: 0.9771\n",
      "Epoch 89/100\n",
      "421/421 [==============================] - 64s 152ms/step - loss: 0.1228 - accuracy: 0.9773\n",
      "Epoch 90/100\n",
      "421/421 [==============================] - 67s 159ms/step - loss: 0.1258 - accuracy: 0.9771\n",
      "Epoch 91/100\n",
      "421/421 [==============================] - 66s 157ms/step - loss: 0.1235 - accuracy: 0.9763\n",
      "Epoch 92/100\n",
      "421/421 [==============================] - 64s 152ms/step - loss: 0.1224 - accuracy: 0.9775\n",
      "Epoch 93/100\n",
      "421/421 [==============================] - 63s 150ms/step - loss: 0.1229 - accuracy: 0.9779\n",
      "Epoch 94/100\n",
      "421/421 [==============================] - 64s 151ms/step - loss: 0.1195 - accuracy: 0.9783\n",
      "Epoch 95/100\n",
      "421/421 [==============================] - 68s 160ms/step - loss: 0.1232 - accuracy: 0.9770\n",
      "Epoch 96/100\n",
      "421/421 [==============================] - 64s 152ms/step - loss: 0.1225 - accuracy: 0.9778\n",
      "Epoch 97/100\n",
      "421/421 [==============================] - 64s 152ms/step - loss: 0.1184 - accuracy: 0.9786\n",
      "Epoch 98/100\n",
      "421/421 [==============================] - 64s 151ms/step - loss: 0.1192 - accuracy: 0.9785\n",
      "Epoch 99/100\n",
      "421/421 [==============================] - 67s 160ms/step - loss: 0.1183 - accuracy: 0.9793\n",
      "Epoch 100/100\n",
      "421/421 [==============================] - 64s 153ms/step - loss: 0.1204 - accuracy: 0.9776\n"
     ]
    }
   ],
   "source": [
    "# Un-Freezing the feature extraction layers for fine tuning \n",
    "model.layers[1].trainable = True\n",
    "\n",
    "model.compile(optimizer=tf.keras.optimizers.SGD(0.001), #lower learning rate\n",
    "                loss='categorical_crossentropy',\n",
    "                metrics = ['accuracy'])\n",
    "\n",
    "history_ = model.fit(x = train_generator,epochs = 100 ,validation_data = validation_generator)\n",
    "history = history.append(pd.DataFrame(history_.history) , ignore_index=True)"
   ]
  },
  {
   "cell_type": "markdown",
   "id": "2e887dc5",
   "metadata": {
    "papermill": {
     "duration": 28.553359,
     "end_time": "2024-04-02T00:36:39.046176",
     "exception": false,
     "start_time": "2024-04-02T00:36:10.492817",
     "status": "completed"
    },
    "tags": []
   },
   "source": [
    "<a id=\"vis\"></a>\n",
    "# <center> Visualizing Results </center> "
   ]
  },
  {
   "cell_type": "markdown",
   "id": "88cf7b3d",
   "metadata": {
    "papermill": {
     "duration": 28.76467,
     "end_time": "2024-04-02T00:37:36.626702",
     "exception": false,
     "start_time": "2024-04-02T00:37:07.862032",
     "status": "completed"
    },
    "tags": []
   },
   "source": [
    "## Model Evaluation"
   ]
  },
  {
   "cell_type": "code",
   "execution_count": 10,
   "id": "3b0d891b",
   "metadata": {
    "_kg_hide-input": true,
    "execution": {
     "iopub.execute_input": "2024-04-02T00:38:33.912543Z",
     "iopub.status.busy": "2024-04-02T00:38:33.911917Z",
     "iopub.status.idle": "2024-04-02T00:39:00.182180Z",
     "shell.execute_reply": "2024-04-02T00:39:00.182804Z"
    },
    "papermill": {
     "duration": 54.768982,
     "end_time": "2024-04-02T00:39:00.182994",
     "exception": false,
     "start_time": "2024-04-02T00:38:05.414012",
     "status": "completed"
    },
    "tags": []
   },
   "outputs": [
    {
     "name": "stdout",
     "output_type": "stream",
     "text": [
      "30/30 [==============================] - 20s 599ms/step - loss: 1.7906 - accuracy: 0.6163\n"
     ]
    }
   ],
   "source": [
    "model.evaluate(test_generator)\n",
    "preds = model.predict(test_generator)\n",
    "y_preds = np.argmax(preds , axis = 1 )\n",
    "y_test = np.array(test_generator.labels)"
   ]
  },
  {
   "cell_type": "markdown",
   "id": "595362b6",
   "metadata": {
    "papermill": {
     "duration": 28.641804,
     "end_time": "2024-04-02T00:39:57.392323",
     "exception": false,
     "start_time": "2024-04-02T00:39:28.750519",
     "status": "completed"
    },
    "tags": []
   },
   "source": [
    "## Confusion Matrix"
   ]
  },
  {
   "cell_type": "code",
   "execution_count": 11,
   "id": "aa714f9a",
   "metadata": {
    "_kg_hide-input": true,
    "execution": {
     "iopub.execute_input": "2024-04-02T00:40:55.240698Z",
     "iopub.status.busy": "2024-04-02T00:40:55.239803Z",
     "iopub.status.idle": "2024-04-02T00:40:55.685180Z",
     "shell.execute_reply": "2024-04-02T00:40:55.685667Z"
    },
    "papermill": {
     "duration": 29.476556,
     "end_time": "2024-04-02T00:40:55.685882",
     "exception": false,
     "start_time": "2024-04-02T00:40:26.209326",
     "status": "completed"
    },
    "tags": []
   },
   "outputs": [
    {
     "data": {
      "image/png": "[encoded data removed]",
      "text/plain": [
       "<Figure size 1440x720 with 1 Axes>"
      ]
     },
     "metadata": {
      "needs_background": "light"
     },
     "output_type": "display_data"
    }
   ],
   "source": [
    "cm_data = confusion_matrix(y_test , y_preds)\n",
    "cm = pd.DataFrame(cm_data, columns=CLASS_LABELS, index = CLASS_LABELS)\n",
    "cm.index.name = 'Actual'\n",
    "cm.columns.name = 'Predicted'\n",
    "plt.figure(figsize = (20,10))\n",
    "plt.title('Confusion Matrix', fontsize = 20)\n",
    "sns.set(font_scale=1.2)\n",
    "ax = sns.heatmap(cm, cbar=False, cmap=\"Blues\", annot=True, annot_kws={\"size\": 16}, fmt='g')"
   ]
  },
  {
   "cell_type": "markdown",
   "id": "87047882",
   "metadata": {
    "papermill": {
     "duration": 28.348757,
     "end_time": "2024-04-02T00:41:53.219498",
     "exception": false,
     "start_time": "2024-04-02T00:41:24.870741",
     "status": "completed"
    },
    "tags": []
   },
   "source": [
    "## Classification Report "
   ]
  },
  {
   "cell_type": "code",
   "execution_count": 12,
   "id": "0ceb95a1",
   "metadata": {
    "execution": {
     "iopub.execute_input": "2024-04-02T00:42:50.259003Z",
     "iopub.status.busy": "2024-04-02T00:42:50.258341Z",
     "iopub.status.idle": "2024-04-02T00:42:50.267455Z",
     "shell.execute_reply": "2024-04-02T00:42:50.268010Z"
    },
    "papermill": {
     "duration": 28.511707,
     "end_time": "2024-04-02T00:42:50.268175",
     "exception": false,
     "start_time": "2024-04-02T00:42:21.756468",
     "status": "completed"
    },
    "tags": []
   },
   "outputs": [
    {
     "name": "stdout",
     "output_type": "stream",
     "text": [
      "              precision    recall  f1-score   support\n",
      "\n",
      "           0       0.55      0.54      0.54       300\n",
      "           1       0.96      0.49      0.65       100\n",
      "           2       0.49      0.51      0.50       300\n",
      "           3       0.74      0.83      0.78       300\n",
      "           4       0.58      0.61      0.60       300\n",
      "           5       0.46      0.51      0.48       300\n",
      "           6       0.85      0.75      0.80       300\n",
      "\n",
      "    accuracy                           0.62      1900\n",
      "   macro avg       0.66      0.60      0.62      1900\n",
      "weighted avg       0.63      0.62      0.62      1900\n",
      "\n"
     ]
    }
   ],
   "source": [
    "print(classification_report(y_test, y_preds))"
   ]
  },
  {
   "cell_type": "markdown",
   "id": "20706dd5",
   "metadata": {
    "papermill": {
     "duration": 28.677547,
     "end_time": "2024-04-02T00:43:47.638254",
     "exception": false,
     "start_time": "2024-04-02T00:43:18.960707",
     "status": "completed"
    },
    "tags": []
   },
   "source": [
    "## Multiclass AUC Curve"
   ]
  },
  {
   "cell_type": "code",
   "execution_count": 13,
   "id": "139b8b95",
   "metadata": {
    "execution": {
     "iopub.execute_input": "2024-04-02T00:44:44.618925Z",
     "iopub.status.busy": "2024-04-02T00:44:44.617947Z",
     "iopub.status.idle": "2024-04-02T00:44:44.997672Z",
     "shell.execute_reply": "2024-04-02T00:44:44.998170Z"
    },
    "papermill": {
     "duration": 28.935272,
     "end_time": "2024-04-02T00:44:44.998329",
     "exception": false,
     "start_time": "2024-04-02T00:44:16.063057",
     "status": "completed"
    },
    "tags": []
   },
   "outputs": [
    {
     "name": "stdout",
     "output_type": "stream",
     "text": [
      "ROC AUC score: 0.8901963065558632\n"
     ]
    },
    {
     "data": {
      "image/png": "[encoded data removed]",
      "text/plain": [
       "<Figure size 1080x576 with 1 Axes>"
      ]
     },
     "metadata": {},
     "output_type": "display_data"
    }
   ],
   "source": [
    "fig, c_ax = plt.subplots(1,1, figsize = (15,8))\n",
    "\n",
    "def multiclass_roc_auc_score(y_test, y_pred, average=\"macro\"):\n",
    "    lb = LabelBinarizer()\n",
    "    lb.fit(y_test)\n",
    "    y_test = lb.transform(y_test)\n",
    "    for (idx, c_label) in enumerate(CLASS_LABELS):\n",
    "        fpr, tpr, thresholds = roc_curve(y_test[:,idx].astype(int), y_pred[:,idx])\n",
    "        c_ax.plot(fpr, tpr,lw=2, label = '%s (AUC:%0.2f)'  % (c_label, auc(fpr, tpr)))\n",
    "    c_ax.plot(fpr, fpr, 'black',linestyle='dashed', lw=4, label = 'Random Guessing')\n",
    "    return roc_auc_score(y_test, y_pred, average=average)\n",
    "\n",
    "print('ROC AUC score:', multiclass_roc_auc_score(y_test , preds  , average = \"micro\"))\n",
    "plt.xlabel('FALSE POSITIVE RATE', fontsize=18)\n",
    "plt.ylabel('TRUE POSITIVE RATE', fontsize=16)\n",
    "plt.legend(fontsize = 11.5)\n",
    "plt.show()"
   ]
  },
  {
   "cell_type": "code",
   "execution_count": 14,
   "id": "574de0d6",
   "metadata": {
    "execution": {
     "iopub.execute_input": "2024-04-02T00:45:42.335550Z",
     "iopub.status.busy": "2024-04-02T00:45:42.334945Z",
     "iopub.status.idle": "2024-04-02T00:45:42.345206Z",
     "shell.execute_reply": "2024-04-02T00:45:42.345698Z"
    },
    "papermill": {
     "duration": 28.609337,
     "end_time": "2024-04-02T00:45:42.345884",
     "exception": false,
     "start_time": "2024-04-02T00:45:13.736547",
     "status": "completed"
    },
    "tags": []
   },
   "outputs": [
    {
     "name": "stdout",
     "output_type": "stream",
     "text": [
      "ROC-AUC Score  =  0.8768651785714285\n"
     ]
    }
   ],
   "source": [
    "print(\"ROC-AUC Score  = \" ,roc_auc_score(to_categorical(y_test) , preds))"
   ]
  },
  {
   "cell_type": "code",
   "execution_count": 15,
   "id": "ad955893",
   "metadata": {
    "execution": {
     "iopub.execute_input": "2024-04-02T00:46:39.264512Z",
     "iopub.status.busy": "2024-04-02T00:46:39.263818Z",
     "iopub.status.idle": "2024-04-02T00:46:39.275127Z",
     "shell.execute_reply": "2024-04-02T00:46:39.274575Z",
     "shell.execute_reply.started": "2024-03-30T20:02:40.472753Z"
    },
    "papermill": {
     "duration": 28.548492,
     "end_time": "2024-04-02T00:46:39.275286",
     "exception": false,
     "start_time": "2024-04-02T00:46:10.726794",
     "status": "completed"
    },
    "tags": []
   },
   "outputs": [
    {
     "name": "stdout",
     "output_type": "stream",
     "text": [
      "ROC-AUC Score  =  0.8768651785714285\n"
     ]
    }
   ],
   "source": [
    "print(\"ROC-AUC Score  = \" ,roc_auc_score(to_categorical(y_test) , preds))"
   ]
  },
  {
   "cell_type": "code",
   "execution_count": null,
   "id": "30d8b339",
   "metadata": {
    "papermill": {
     "duration": 28.799508,
     "end_time": "2024-04-02T00:47:36.538817",
     "exception": false,
     "start_time": "2024-04-02T00:47:07.739309",
     "status": "completed"
    },
    "tags": []
   },
   "outputs": [],
   "source": []
  }
 ],
 "metadata": {
  "kaggle": {
   "accelerator": "gpu",
   "dataSources": [
    {
     "datasetId": 4699410,
     "sourceId": 7983804,
     "sourceType": "datasetVersion"
    }
   ],
   "dockerImageVersionId": 30140,
   "isGpuEnabled": true,
   "isInternetEnabled": true,
   "language": "python",
   "sourceType": "notebook"
  },
  "kernelspec": {
   "display_name": "Python 3",
   "language": "python",
   "name": "python3"
  },
  "language_info": {
   "codemirror_mode": {
    "name": "ipython",
    "version": 3
   },
   "file_extension": ".py",
   "mimetype": "text/x-python",
   "name": "python",
   "nbconvert_exporter": "python",
   "pygments_lexer": "ipython3",
   "version": "3.7.10"
  },
  "papermill": {
   "default_parameters": {},
   "duration": 14344.166313,
   "end_time": "2024-04-02T00:48:07.846308",
   "environment_variables": {},
   "exception": null,
   "input_path": "__notebook__.ipynb",
   "output_path": "__notebook__.ipynb",
   "parameters": {},
   "start_time": "2024-04-01T20:49:03.679995",
   "version": "2.3.3"
  }
 },
 "nbformat": 4,
 "nbformat_minor": 5
}
